{
 "cells": [
  {
   "cell_type": "markdown",
   "metadata": {},
   "source": [
    "# Spam detection model using the vectorized data"
   ]
  },
  {
   "cell_type": "markdown",
   "metadata": {},
   "source": [
    "To create a spam detection model using the vectorized data, we'll follow these steps:\n",
    "\n",
    "1. Label the Data: We need labels indicating whether each email is spam or not.\n",
    "2. Split the Data: Divide the data into training and testing sets to evaluate the model's performance accurately.\n",
    "3. Train a Model: Use a machine learning algorithm to train a model on the training data. Common choices for text classification include Logistic Regression, Random Forest, Naive Bayes, and Support Vector Machines (SVM).\n",
    "4. Evaluate the Model: Test the model on the testing set to assess its accuracy, recall, f1-score and confusion matrix"
   ]
  },
  {
   "cell_type": "markdown",
   "metadata": {},
   "source": [
    "## 1. Loading the e-mail dataset "
   ]
  },
  {
   "cell_type": "code",
   "execution_count": 1,
   "metadata": {},
   "outputs": [
    {
     "data": {
      "text/html": [
       "<div>\n",
       "<style scoped>\n",
       "    .dataframe tbody tr th:only-of-type {\n",
       "        vertical-align: middle;\n",
       "    }\n",
       "\n",
       "    .dataframe tbody tr th {\n",
       "        vertical-align: top;\n",
       "    }\n",
       "\n",
       "    .dataframe thead th {\n",
       "        text-align: right;\n",
       "    }\n",
       "</style>\n",
       "<table border=\"1\" class=\"dataframe\">\n",
       "  <thead>\n",
       "    <tr style=\"text-align: right;\">\n",
       "      <th></th>\n",
       "      <th>Unnamed: 0</th>\n",
       "      <th>Subject</th>\n",
       "      <th>Content</th>\n",
       "    </tr>\n",
       "  </thead>\n",
       "  <tbody>\n",
       "    <tr>\n",
       "      <th>0</th>\n",
       "      <td>0</td>\n",
       "      <td>announcing sftp support for backup box</td>\n",
       "      <td>hi \\r\\n\\r\\nthanks for using backup box  i want...</td>\n",
       "    </tr>\n",
       "    <tr>\n",
       "      <th>1</th>\n",
       "      <td>1</td>\n",
       "      <td>what s new  big android update  skitch sharing...</td>\n",
       "      <td>evernote newsletter  march 2012   \\r\\n\\r\\ni...</td>\n",
       "    </tr>\n",
       "    <tr>\n",
       "      <th>2</th>\n",
       "      <td>2</td>\n",
       "      <td>boxbuzz  new onecloud unifies mobile apps with...</td>\n",
       "      <td>\\r\\n\\r\\n http   app en25 com e es aspx s 1464 ...</td>\n",
       "    </tr>\n",
       "    <tr>\n",
       "      <th>3</th>\n",
       "      <td>3</td>\n",
       "      <td>kevin  see who you already know on linkedin</td>\n",
       "      <td>\\n\\n\\n\\n\\n\\n\\n \\n \\n\\n\\n\\n \\n\\ndear kevin \\nse...</td>\n",
       "    </tr>\n",
       "    <tr>\n",
       "      <th>4</th>\n",
       "      <td>4</td>\n",
       "      <td>3 99 album deals for nirvana  jay z  soundga...</td>\n",
       "      <td>google play    http   play google com  \\n\\n ...</td>\n",
       "    </tr>\n",
       "  </tbody>\n",
       "</table>\n",
       "</div>"
      ],
      "text/plain": [
       "   Unnamed: 0                                            Subject   \n",
       "0           0            announcing sftp support for backup box   \\\n",
       "1           1  what s new  big android update  skitch sharing...   \n",
       "2           2  boxbuzz  new onecloud unifies mobile apps with...   \n",
       "3           3        kevin  see who you already know on linkedin   \n",
       "4           4    3 99 album deals for nirvana  jay z  soundga...   \n",
       "\n",
       "                                             Content  \n",
       "0  hi \\r\\n\\r\\nthanks for using backup box  i want...  \n",
       "1     evernote newsletter  march 2012   \\r\\n\\r\\ni...  \n",
       "2  \\r\\n\\r\\n http   app en25 com e es aspx s 1464 ...  \n",
       "3  \\n\\n\\n\\n\\n\\n\\n \\n \\n\\n\\n\\n \\n\\ndear kevin \\nse...  \n",
       "4    google play    http   play google com  \\n\\n ...  "
      ]
     },
     "execution_count": 1,
     "metadata": {},
     "output_type": "execute_result"
    }
   ],
   "source": [
    "import pandas as pd\n",
    "\n",
    "# Load the dataset\n",
    "file_path = r\"csv/mail.csv\"\n",
    "data = pd.read_csv(file_path)\n",
    "\n",
    "# Display the first few rows of the dataset to understand its structure\n",
    "data.head()\n"
   ]
  },
  {
   "cell_type": "markdown",
   "metadata": {},
   "source": [
    "# 2. Vectorize the dataset"
   ]
  },
  {
   "cell_type": "markdown",
   "metadata": {},
   "source": [
    "To vectorize the dataset, we can use techniques like: <br>\n",
    "\n",
    " - Bag-of-Words (BoW): Represents text data by counting how many times each word appears.\n",
    " - TF-IDF (Term Frequency-Inverse Document Frequency): Weighs words according to their frequency across documents, giving higher importance to less common but potentially more relevant terms.\n",
    "\n",
    " We will use TF-IDF, which is commonly used for text processing as it helps in distinguishing more meaningful words from common ones. \n",
    "\n",
    "\n",
    "Focusing on the top 1000 terms to simplify the representation."
   ]
  },
  {
   "cell_type": "markdown",
   "metadata": {},
   "source": [
    "## 2. Vectorize the dataset with TF-IDF (Term Frequency-Inverse Document Frequency)"
   ]
  },
  {
   "cell_type": "code",
   "execution_count": 2,
   "metadata": {},
   "outputs": [
    {
     "data": {
      "text/html": [
       "<div>\n",
       "<style scoped>\n",
       "    .dataframe tbody tr th:only-of-type {\n",
       "        vertical-align: middle;\n",
       "    }\n",
       "\n",
       "    .dataframe tbody tr th {\n",
       "        vertical-align: top;\n",
       "    }\n",
       "\n",
       "    .dataframe thead th {\n",
       "        text-align: right;\n",
       "    }\n",
       "</style>\n",
       "<table border=\"1\" class=\"dataframe\">\n",
       "  <thead>\n",
       "    <tr style=\"text-align: right;\">\n",
       "      <th></th>\n",
       "      <th>00</th>\n",
       "      <th>000</th>\n",
       "      <th>01</th>\n",
       "      <th>05</th>\n",
       "      <th>0px</th>\n",
       "      <th>10</th>\n",
       "      <th>100</th>\n",
       "      <th>10012</th>\n",
       "      <th>102</th>\n",
       "      <th>11</th>\n",
       "      <th>...</th>\n",
       "      <th>writing</th>\n",
       "      <th>www</th>\n",
       "      <th>year</th>\n",
       "      <th>years</th>\n",
       "      <th>yet</th>\n",
       "      <th>york</th>\n",
       "      <th>you</th>\n",
       "      <th>your</th>\n",
       "      <th>yourself</th>\n",
       "      <th>youtube</th>\n",
       "    </tr>\n",
       "  </thead>\n",
       "  <tbody>\n",
       "    <tr>\n",
       "      <th>0</th>\n",
       "      <td>0.000000</td>\n",
       "      <td>0.0</td>\n",
       "      <td>0.0</td>\n",
       "      <td>0.0</td>\n",
       "      <td>0.0</td>\n",
       "      <td>0.000000</td>\n",
       "      <td>0.00000</td>\n",
       "      <td>0.0</td>\n",
       "      <td>0.0</td>\n",
       "      <td>0.000000</td>\n",
       "      <td>...</td>\n",
       "      <td>0.000000</td>\n",
       "      <td>0.000000</td>\n",
       "      <td>0.000000</td>\n",
       "      <td>0.0</td>\n",
       "      <td>0.0</td>\n",
       "      <td>0.000000</td>\n",
       "      <td>0.121157</td>\n",
       "      <td>0.015350</td>\n",
       "      <td>0.0</td>\n",
       "      <td>0.000000</td>\n",
       "    </tr>\n",
       "    <tr>\n",
       "      <th>1</th>\n",
       "      <td>0.000000</td>\n",
       "      <td>0.0</td>\n",
       "      <td>0.0</td>\n",
       "      <td>0.0</td>\n",
       "      <td>0.0</td>\n",
       "      <td>0.000000</td>\n",
       "      <td>0.00000</td>\n",
       "      <td>0.0</td>\n",
       "      <td>0.0</td>\n",
       "      <td>0.000000</td>\n",
       "      <td>...</td>\n",
       "      <td>0.000000</td>\n",
       "      <td>0.000000</td>\n",
       "      <td>0.000000</td>\n",
       "      <td>0.0</td>\n",
       "      <td>0.0</td>\n",
       "      <td>0.000000</td>\n",
       "      <td>0.051946</td>\n",
       "      <td>0.122855</td>\n",
       "      <td>0.0</td>\n",
       "      <td>0.000000</td>\n",
       "    </tr>\n",
       "    <tr>\n",
       "      <th>2</th>\n",
       "      <td>0.000000</td>\n",
       "      <td>0.0</td>\n",
       "      <td>0.0</td>\n",
       "      <td>0.0</td>\n",
       "      <td>0.0</td>\n",
       "      <td>0.000000</td>\n",
       "      <td>0.02228</td>\n",
       "      <td>0.0</td>\n",
       "      <td>0.0</td>\n",
       "      <td>0.000000</td>\n",
       "      <td>...</td>\n",
       "      <td>0.024515</td>\n",
       "      <td>0.000000</td>\n",
       "      <td>0.000000</td>\n",
       "      <td>0.0</td>\n",
       "      <td>0.0</td>\n",
       "      <td>0.051266</td>\n",
       "      <td>0.040902</td>\n",
       "      <td>0.088839</td>\n",
       "      <td>0.0</td>\n",
       "      <td>0.029388</td>\n",
       "    </tr>\n",
       "    <tr>\n",
       "      <th>3</th>\n",
       "      <td>0.000000</td>\n",
       "      <td>0.0</td>\n",
       "      <td>0.0</td>\n",
       "      <td>0.0</td>\n",
       "      <td>0.0</td>\n",
       "      <td>0.000000</td>\n",
       "      <td>0.00000</td>\n",
       "      <td>0.0</td>\n",
       "      <td>0.0</td>\n",
       "      <td>0.000000</td>\n",
       "      <td>...</td>\n",
       "      <td>0.000000</td>\n",
       "      <td>0.000000</td>\n",
       "      <td>0.000000</td>\n",
       "      <td>0.0</td>\n",
       "      <td>0.0</td>\n",
       "      <td>0.000000</td>\n",
       "      <td>0.154238</td>\n",
       "      <td>0.000000</td>\n",
       "      <td>0.0</td>\n",
       "      <td>0.000000</td>\n",
       "    </tr>\n",
       "    <tr>\n",
       "      <th>4</th>\n",
       "      <td>0.000000</td>\n",
       "      <td>0.0</td>\n",
       "      <td>0.0</td>\n",
       "      <td>0.0</td>\n",
       "      <td>0.0</td>\n",
       "      <td>0.000000</td>\n",
       "      <td>0.00000</td>\n",
       "      <td>0.0</td>\n",
       "      <td>0.0</td>\n",
       "      <td>0.000000</td>\n",
       "      <td>...</td>\n",
       "      <td>0.000000</td>\n",
       "      <td>0.244195</td>\n",
       "      <td>0.025114</td>\n",
       "      <td>0.0</td>\n",
       "      <td>0.0</td>\n",
       "      <td>0.000000</td>\n",
       "      <td>0.035385</td>\n",
       "      <td>0.035866</td>\n",
       "      <td>0.0</td>\n",
       "      <td>0.000000</td>\n",
       "    </tr>\n",
       "    <tr>\n",
       "      <th>...</th>\n",
       "      <td>...</td>\n",
       "      <td>...</td>\n",
       "      <td>...</td>\n",
       "      <td>...</td>\n",
       "      <td>...</td>\n",
       "      <td>...</td>\n",
       "      <td>...</td>\n",
       "      <td>...</td>\n",
       "      <td>...</td>\n",
       "      <td>...</td>\n",
       "      <td>...</td>\n",
       "      <td>...</td>\n",
       "      <td>...</td>\n",
       "      <td>...</td>\n",
       "      <td>...</td>\n",
       "      <td>...</td>\n",
       "      <td>...</td>\n",
       "      <td>...</td>\n",
       "      <td>...</td>\n",
       "      <td>...</td>\n",
       "      <td>...</td>\n",
       "    </tr>\n",
       "    <tr>\n",
       "      <th>1627</th>\n",
       "      <td>0.000000</td>\n",
       "      <td>0.0</td>\n",
       "      <td>0.0</td>\n",
       "      <td>0.0</td>\n",
       "      <td>0.0</td>\n",
       "      <td>0.000000</td>\n",
       "      <td>0.00000</td>\n",
       "      <td>0.0</td>\n",
       "      <td>0.0</td>\n",
       "      <td>0.000000</td>\n",
       "      <td>...</td>\n",
       "      <td>0.000000</td>\n",
       "      <td>0.000000</td>\n",
       "      <td>0.000000</td>\n",
       "      <td>0.0</td>\n",
       "      <td>0.0</td>\n",
       "      <td>0.000000</td>\n",
       "      <td>0.054336</td>\n",
       "      <td>0.220298</td>\n",
       "      <td>0.0</td>\n",
       "      <td>0.000000</td>\n",
       "    </tr>\n",
       "    <tr>\n",
       "      <th>1628</th>\n",
       "      <td>0.000000</td>\n",
       "      <td>0.0</td>\n",
       "      <td>0.0</td>\n",
       "      <td>0.0</td>\n",
       "      <td>0.0</td>\n",
       "      <td>0.000000</td>\n",
       "      <td>0.00000</td>\n",
       "      <td>0.0</td>\n",
       "      <td>0.0</td>\n",
       "      <td>0.000000</td>\n",
       "      <td>...</td>\n",
       "      <td>0.000000</td>\n",
       "      <td>0.000000</td>\n",
       "      <td>0.000000</td>\n",
       "      <td>0.0</td>\n",
       "      <td>0.0</td>\n",
       "      <td>0.000000</td>\n",
       "      <td>0.109635</td>\n",
       "      <td>0.022225</td>\n",
       "      <td>0.0</td>\n",
       "      <td>0.000000</td>\n",
       "    </tr>\n",
       "    <tr>\n",
       "      <th>1629</th>\n",
       "      <td>0.108243</td>\n",
       "      <td>0.0</td>\n",
       "      <td>0.0</td>\n",
       "      <td>0.0</td>\n",
       "      <td>0.0</td>\n",
       "      <td>0.066234</td>\n",
       "      <td>0.00000</td>\n",
       "      <td>0.0</td>\n",
       "      <td>0.0</td>\n",
       "      <td>0.538199</td>\n",
       "      <td>...</td>\n",
       "      <td>0.000000</td>\n",
       "      <td>0.000000</td>\n",
       "      <td>0.000000</td>\n",
       "      <td>0.0</td>\n",
       "      <td>0.0</td>\n",
       "      <td>0.000000</td>\n",
       "      <td>0.025862</td>\n",
       "      <td>0.078639</td>\n",
       "      <td>0.0</td>\n",
       "      <td>0.000000</td>\n",
       "    </tr>\n",
       "    <tr>\n",
       "      <th>1630</th>\n",
       "      <td>0.108175</td>\n",
       "      <td>0.0</td>\n",
       "      <td>0.0</td>\n",
       "      <td>0.0</td>\n",
       "      <td>0.0</td>\n",
       "      <td>0.066193</td>\n",
       "      <td>0.00000</td>\n",
       "      <td>0.0</td>\n",
       "      <td>0.0</td>\n",
       "      <td>0.537864</td>\n",
       "      <td>...</td>\n",
       "      <td>0.000000</td>\n",
       "      <td>0.000000</td>\n",
       "      <td>0.000000</td>\n",
       "      <td>0.0</td>\n",
       "      <td>0.0</td>\n",
       "      <td>0.000000</td>\n",
       "      <td>0.025845</td>\n",
       "      <td>0.078590</td>\n",
       "      <td>0.0</td>\n",
       "      <td>0.000000</td>\n",
       "    </tr>\n",
       "    <tr>\n",
       "      <th>1631</th>\n",
       "      <td>0.105673</td>\n",
       "      <td>0.0</td>\n",
       "      <td>0.0</td>\n",
       "      <td>0.0</td>\n",
       "      <td>0.0</td>\n",
       "      <td>0.064662</td>\n",
       "      <td>0.00000</td>\n",
       "      <td>0.0</td>\n",
       "      <td>0.0</td>\n",
       "      <td>0.525422</td>\n",
       "      <td>...</td>\n",
       "      <td>0.000000</td>\n",
       "      <td>0.000000</td>\n",
       "      <td>0.000000</td>\n",
       "      <td>0.0</td>\n",
       "      <td>0.0</td>\n",
       "      <td>0.000000</td>\n",
       "      <td>0.037871</td>\n",
       "      <td>0.063977</td>\n",
       "      <td>0.0</td>\n",
       "      <td>0.000000</td>\n",
       "    </tr>\n",
       "  </tbody>\n",
       "</table>\n",
       "<p>1632 rows × 1000 columns</p>\n",
       "</div>"
      ],
      "text/plain": [
       "            00  000   01   05  0px        10      100  10012  102        11   \n",
       "0     0.000000  0.0  0.0  0.0  0.0  0.000000  0.00000    0.0  0.0  0.000000  \\\n",
       "1     0.000000  0.0  0.0  0.0  0.0  0.000000  0.00000    0.0  0.0  0.000000   \n",
       "2     0.000000  0.0  0.0  0.0  0.0  0.000000  0.02228    0.0  0.0  0.000000   \n",
       "3     0.000000  0.0  0.0  0.0  0.0  0.000000  0.00000    0.0  0.0  0.000000   \n",
       "4     0.000000  0.0  0.0  0.0  0.0  0.000000  0.00000    0.0  0.0  0.000000   \n",
       "...        ...  ...  ...  ...  ...       ...      ...    ...  ...       ...   \n",
       "1627  0.000000  0.0  0.0  0.0  0.0  0.000000  0.00000    0.0  0.0  0.000000   \n",
       "1628  0.000000  0.0  0.0  0.0  0.0  0.000000  0.00000    0.0  0.0  0.000000   \n",
       "1629  0.108243  0.0  0.0  0.0  0.0  0.066234  0.00000    0.0  0.0  0.538199   \n",
       "1630  0.108175  0.0  0.0  0.0  0.0  0.066193  0.00000    0.0  0.0  0.537864   \n",
       "1631  0.105673  0.0  0.0  0.0  0.0  0.064662  0.00000    0.0  0.0  0.525422   \n",
       "\n",
       "      ...   writing       www      year  years  yet      york       you   \n",
       "0     ...  0.000000  0.000000  0.000000    0.0  0.0  0.000000  0.121157  \\\n",
       "1     ...  0.000000  0.000000  0.000000    0.0  0.0  0.000000  0.051946   \n",
       "2     ...  0.024515  0.000000  0.000000    0.0  0.0  0.051266  0.040902   \n",
       "3     ...  0.000000  0.000000  0.000000    0.0  0.0  0.000000  0.154238   \n",
       "4     ...  0.000000  0.244195  0.025114    0.0  0.0  0.000000  0.035385   \n",
       "...   ...       ...       ...       ...    ...  ...       ...       ...   \n",
       "1627  ...  0.000000  0.000000  0.000000    0.0  0.0  0.000000  0.054336   \n",
       "1628  ...  0.000000  0.000000  0.000000    0.0  0.0  0.000000  0.109635   \n",
       "1629  ...  0.000000  0.000000  0.000000    0.0  0.0  0.000000  0.025862   \n",
       "1630  ...  0.000000  0.000000  0.000000    0.0  0.0  0.000000  0.025845   \n",
       "1631  ...  0.000000  0.000000  0.000000    0.0  0.0  0.000000  0.037871   \n",
       "\n",
       "          your  yourself   youtube  \n",
       "0     0.015350       0.0  0.000000  \n",
       "1     0.122855       0.0  0.000000  \n",
       "2     0.088839       0.0  0.029388  \n",
       "3     0.000000       0.0  0.000000  \n",
       "4     0.035866       0.0  0.000000  \n",
       "...        ...       ...       ...  \n",
       "1627  0.220298       0.0  0.000000  \n",
       "1628  0.022225       0.0  0.000000  \n",
       "1629  0.078639       0.0  0.000000  \n",
       "1630  0.078590       0.0  0.000000  \n",
       "1631  0.063977       0.0  0.000000  \n",
       "\n",
       "[1632 rows x 1000 columns]"
      ]
     },
     "execution_count": 2,
     "metadata": {},
     "output_type": "execute_result"
    }
   ],
   "source": [
    "from sklearn.feature_extraction.text import TfidfVectorizer\n",
    "\n",
    "# Initialize the TF-IDF Vectorizer\n",
    "tfidf_vectorizer = TfidfVectorizer(max_features=1000)  # Limit to top 1000 features for simplicity\n",
    "\n",
    "# Fit and transform the 'Content' column\n",
    "tfidf_matrix = tfidf_vectorizer.fit_transform(data['Content'])\n",
    "\n",
    "# Create a DataFrame to show the TF-IDF features for the first few rows\n",
    "tfidf_df = pd.DataFrame(tfidf_matrix.toarray(), columns=tfidf_vectorizer.get_feature_names_out())\n",
    "tfidf_df\n",
    "\n"
   ]
  },
  {
   "cell_type": "code",
   "execution_count": null,
   "metadata": {},
   "outputs": [],
   "source": [
    "import pickle\n",
    "pkl_filename = 'model/prog8245nlp-tfidf.pkl'\n",
    "with open(pkl_filename, 'wb') as file:\n",
    "    pickle.dump(tfidf_vectorizer, file)"
   ]
  },
  {
   "cell_type": "markdown",
   "metadata": {},
   "source": [
    "## 2.2. Saving the Vectorize the dataset"
   ]
  },
  {
   "cell_type": "code",
   "execution_count": 3,
   "metadata": {},
   "outputs": [],
   "source": [
    "import pandas as pd\n",
    "\n",
    "tfidf_df.to_csv(r'csv/tfidf_vectorized_data.csv', index=False)\n"
   ]
  },
  {
   "cell_type": "code",
   "execution_count": 4,
   "metadata": {},
   "outputs": [
    {
     "data": {
      "text/plain": [
       "(    00  000   01   05  0px   10      100  10012  102   11  ...   writing   \n",
       " 0  0.0  0.0  0.0  0.0  0.0  0.0  0.00000    0.0  0.0  0.0  ...  0.000000  \\\n",
       " 1  0.0  0.0  0.0  0.0  0.0  0.0  0.00000    0.0  0.0  0.0  ...  0.000000   \n",
       " 2  0.0  0.0  0.0  0.0  0.0  0.0  0.02228    0.0  0.0  0.0  ...  0.024515   \n",
       " 3  0.0  0.0  0.0  0.0  0.0  0.0  0.00000    0.0  0.0  0.0  ...  0.000000   \n",
       " 4  0.0  0.0  0.0  0.0  0.0  0.0  0.00000    0.0  0.0  0.0  ...  0.000000   \n",
       " \n",
       "         www      year  years  yet      york       you      your  yourself   \n",
       " 0  0.000000  0.000000    0.0  0.0  0.000000  0.121157  0.015350       0.0  \\\n",
       " 1  0.000000  0.000000    0.0  0.0  0.000000  0.051946  0.122855       0.0   \n",
       " 2  0.000000  0.000000    0.0  0.0  0.051266  0.040902  0.088839       0.0   \n",
       " 3  0.000000  0.000000    0.0  0.0  0.000000  0.154238  0.000000       0.0   \n",
       " 4  0.244195  0.025114    0.0  0.0  0.000000  0.035385  0.035866       0.0   \n",
       " \n",
       "     youtube  \n",
       " 0  0.000000  \n",
       " 1  0.000000  \n",
       " 2  0.029388  \n",
       " 3  0.000000  \n",
       " 4  0.000000  \n",
       " \n",
       " [5 rows x 1000 columns],\n",
       " Index(['00', '000', '01', '05', '0px', '10', '100', '10012', '102', '11',\n",
       "        ...\n",
       "        'writing', 'www', 'year', 'years', 'yet', 'york', 'you', 'your',\n",
       "        'yourself', 'youtube'],\n",
       "       dtype='object', length=1000))"
      ]
     },
     "execution_count": 4,
     "metadata": {},
     "output_type": "execute_result"
    }
   ],
   "source": [
    "import pandas as pd\n",
    "\n",
    "# Load the vectorized data\n",
    "file_path = r'csv/tfidf_vectorized_data.csv'\n",
    "vectorized_data = pd.read_csv(file_path)\n",
    "\n",
    "# Display the first few rows of the dataset and its structure\n",
    "vectorized_data.head(), vectorized_data.columns\n"
   ]
  },
  {
   "cell_type": "markdown",
   "metadata": {},
   "source": [
    "# 3. Label the Data"
   ]
  },
  {
   "cell_type": "markdown",
   "metadata": {},
   "source": [
    "Labeling data for spam detection. Here are some general guidelines and approaches we might consider:\n",
    "\n",
    "1. Manual Labeling\n",
    "If the dataset is not too large, we could manually review each email (or document) and assign a label based on its content:<br>\n",
    "Spam (1): Emails that are unsolicited and typically trying to sell something, phishing attempts, or contain malicious links.<br>\n",
    "Not Spam (0): Legitimate emails that are typically personal, business-related, or relevant communications you expect to receive.\n",
    "\n",
    "2. Using Pre-labeled Data\n",
    "If manually labeling the dataset is impractical due to its size or complexity, consider using a pre-labeled dataset:<br>\n",
    "Many public datasets are available for spam detection, such as the Enron Corpus, SpamAssassin Public Corpus, etc.<br>\n",
    "You can train your model on a pre-labeled dataset and use your unlabeled data as additional testing or real-world application data.\n",
    "\n",
    "3. Automated Labeling with Rules\n",
    "For larger datasets, you might develop rules to automatically assign labels based on:<br>\n",
    "Keywords: Spam often contains specific keywords (e.g., \"free\", \"winner\", \"urgent\", \"risk-free\").<br>\n",
    "Sender's Email Address: Emails from certain domains or with suspicious patterns might be more likely to be spam.<br>\n",
    "Formatting and Presentation: Use of excessive capitalization, multiple font colors, or poor formatting can be indicators of spam."
   ]
  },
  {
   "cell_type": "markdown",
   "metadata": {},
   "source": [
    "We are going to use our own manual labeling data "
   ]
  },
  {
   "cell_type": "markdown",
   "metadata": {},
   "source": [
    "### 3.1.1. Download from our github\n",
    "\n",
    "https://github.com/onlyxool/PROG8245NLP\n"
   ]
  },
  {
   "cell_type": "code",
   "execution_count": 5,
   "metadata": {},
   "outputs": [
    {
     "data": {
      "text/html": [
       "<div>\n",
       "<style scoped>\n",
       "    .dataframe tbody tr th:only-of-type {\n",
       "        vertical-align: middle;\n",
       "    }\n",
       "\n",
       "    .dataframe tbody tr th {\n",
       "        vertical-align: top;\n",
       "    }\n",
       "\n",
       "    .dataframe thead th {\n",
       "        text-align: right;\n",
       "    }\n",
       "</style>\n",
       "<table border=\"1\" class=\"dataframe\">\n",
       "  <thead>\n",
       "    <tr style=\"text-align: right;\">\n",
       "      <th></th>\n",
       "      <th>Unnamed: 0</th>\n",
       "      <th>Subject</th>\n",
       "      <th>Content</th>\n",
       "      <th>label</th>\n",
       "      <th>score</th>\n",
       "    </tr>\n",
       "  </thead>\n",
       "  <tbody>\n",
       "    <tr>\n",
       "      <th>0</th>\n",
       "      <td>0</td>\n",
       "      <td>announcing sftp support for backup box</td>\n",
       "      <td>hi \\r\\n\\r\\nthanks for using backup box  i want...</td>\n",
       "      <td>Spam</td>\n",
       "      <td>0.779891</td>\n",
       "    </tr>\n",
       "    <tr>\n",
       "      <th>1</th>\n",
       "      <td>1</td>\n",
       "      <td>what s new  big android update  skitch sharing...</td>\n",
       "      <td>evernote newsletter  march 2012   \\r\\n\\r\\ni...</td>\n",
       "      <td>Spam</td>\n",
       "      <td>0.133800</td>\n",
       "    </tr>\n",
       "    <tr>\n",
       "      <th>2</th>\n",
       "      <td>2</td>\n",
       "      <td>boxbuzz  new onecloud unifies mobile apps with...</td>\n",
       "      <td>\\r\\n\\r\\n http   app en25 com e es aspx s 1464 ...</td>\n",
       "      <td>Spam</td>\n",
       "      <td>0.009085</td>\n",
       "    </tr>\n",
       "    <tr>\n",
       "      <th>3</th>\n",
       "      <td>3</td>\n",
       "      <td>kevin  see who you already know on linkedin</td>\n",
       "      <td>\\n\\n\\n\\n\\n\\n\\n \\n \\n\\n\\n\\n \\n\\ndear kevin \\nse...</td>\n",
       "      <td>Spam</td>\n",
       "      <td>0.651219</td>\n",
       "    </tr>\n",
       "    <tr>\n",
       "      <th>4</th>\n",
       "      <td>4</td>\n",
       "      <td>3 99 album deals for nirvana  jay z  soundga...</td>\n",
       "      <td>google play    http   play google com  \\n\\n ...</td>\n",
       "      <td>Spam</td>\n",
       "      <td>0.314710</td>\n",
       "    </tr>\n",
       "    <tr>\n",
       "      <th>...</th>\n",
       "      <td>...</td>\n",
       "      <td>...</td>\n",
       "      <td>...</td>\n",
       "      <td>...</td>\n",
       "      <td>...</td>\n",
       "    </tr>\n",
       "    <tr>\n",
       "      <th>1627</th>\n",
       "      <td>1627</td>\n",
       "      <td>feedback about your support interaction with s...</td>\n",
       "      <td>please type your reply above this line    ...</td>\n",
       "      <td>Ham</td>\n",
       "      <td>0.006669</td>\n",
       "    </tr>\n",
       "    <tr>\n",
       "      <th>1628</th>\n",
       "      <td>1628</td>\n",
       "      <td>action now  join the uber rider loyalty prog...</td>\n",
       "      <td>\\r\\n                                        ...</td>\n",
       "      <td>Spam</td>\n",
       "      <td>0.607794</td>\n",
       "    </tr>\n",
       "    <tr>\n",
       "      <th>1629</th>\n",
       "      <td>1629</td>\n",
       "      <td>shadowsocks com invoice payment confirmation</td>\n",
       "      <td>\\n\\n\\n\\n\\n\\n\\n\\n\\n\\n\\n\\n\\n\\n\\n\\n\\n\\n\\n\\n\\n\\n\\n...</td>\n",
       "      <td>Spam</td>\n",
       "      <td>0.705285</td>\n",
       "    </tr>\n",
       "    <tr>\n",
       "      <th>1630</th>\n",
       "      <td>1630</td>\n",
       "      <td>shadowsocks com invoice payment confirmation</td>\n",
       "      <td>\\n\\n\\n\\n\\n\\n\\n\\n\\n\\n\\n\\n\\n\\n\\n\\n\\n\\n\\n\\n\\n\\n\\n...</td>\n",
       "      <td>Spam</td>\n",
       "      <td>0.705285</td>\n",
       "    </tr>\n",
       "    <tr>\n",
       "      <th>1631</th>\n",
       "      <td>1631</td>\n",
       "      <td>shadowsocks com invoice payment confirmation</td>\n",
       "      <td>dear kyle chen \\r\\n\\r\\nthis is a payment recei...</td>\n",
       "      <td>Spam</td>\n",
       "      <td>0.549037</td>\n",
       "    </tr>\n",
       "  </tbody>\n",
       "</table>\n",
       "<p>1632 rows × 5 columns</p>\n",
       "</div>"
      ],
      "text/plain": [
       "      Unnamed: 0                                            Subject   \n",
       "0              0            announcing sftp support for backup box   \\\n",
       "1              1  what s new  big android update  skitch sharing...   \n",
       "2              2  boxbuzz  new onecloud unifies mobile apps with...   \n",
       "3              3        kevin  see who you already know on linkedin   \n",
       "4              4    3 99 album deals for nirvana  jay z  soundga...   \n",
       "...          ...                                                ...   \n",
       "1627        1627  feedback about your support interaction with s...   \n",
       "1628        1628    action now  join the uber rider loyalty prog...   \n",
       "1629        1629       shadowsocks com invoice payment confirmation   \n",
       "1630        1630       shadowsocks com invoice payment confirmation   \n",
       "1631        1631       shadowsocks com invoice payment confirmation   \n",
       "\n",
       "                                                Content label     score  \n",
       "0     hi \\r\\n\\r\\nthanks for using backup box  i want...  Spam  0.779891  \n",
       "1        evernote newsletter  march 2012   \\r\\n\\r\\ni...  Spam  0.133800  \n",
       "2     \\r\\n\\r\\n http   app en25 com e es aspx s 1464 ...  Spam  0.009085  \n",
       "3     \\n\\n\\n\\n\\n\\n\\n \\n \\n\\n\\n\\n \\n\\ndear kevin \\nse...  Spam  0.651219  \n",
       "4       google play    http   play google com  \\n\\n ...  Spam  0.314710  \n",
       "...                                                 ...   ...       ...  \n",
       "1627      please type your reply above this line    ...   Ham  0.006669  \n",
       "1628    \\r\\n                                        ...  Spam  0.607794  \n",
       "1629  \\n\\n\\n\\n\\n\\n\\n\\n\\n\\n\\n\\n\\n\\n\\n\\n\\n\\n\\n\\n\\n\\n\\n...  Spam  0.705285  \n",
       "1630  \\n\\n\\n\\n\\n\\n\\n\\n\\n\\n\\n\\n\\n\\n\\n\\n\\n\\n\\n\\n\\n\\n\\n...  Spam  0.705285  \n",
       "1631  dear kyle chen \\r\\n\\r\\nthis is a payment recei...  Spam  0.549037  \n",
       "\n",
       "[1632 rows x 5 columns]"
      ]
     },
     "execution_count": 5,
     "metadata": {},
     "output_type": "execute_result"
    }
   ],
   "source": [
    "import pandas as pd\n",
    "\n",
    "# Load the dataset\n",
    "file_path = r\"csv/mail_labeling.csv\"\n",
    "data_label = pd.read_csv(file_path)\n",
    "\n",
    "# Display the first few rows of the dataset to understand its structure\n",
    "# data_label.head()\n",
    "data_label\n",
    "\n",
    "\n"
   ]
  },
  {
   "cell_type": "markdown",
   "metadata": {},
   "source": [
    "### 3.1.2. Vectorize labeling data"
   ]
  },
  {
   "cell_type": "markdown",
   "metadata": {},
   "source": [
    "How the `tfidf_vectorized_data` already encompasses a comprehensive vectorization of both the Subject and Content, then additional vectorization would not be necessary and could be redundant. "
   ]
  },
  {
   "cell_type": "markdown",
   "metadata": {},
   "source": [
    "# 4. Split the Data"
   ]
  },
  {
   "cell_type": "code",
   "execution_count": 6,
   "metadata": {},
   "outputs": [],
   "source": [
    "from sklearn.model_selection import train_test_split\n",
    "from sklearn.linear_model import LogisticRegression\n",
    "from sklearn.metrics import accuracy_score, confusion_matrix, classification_report\n",
    "\n",
    "# Convert labels to numeric format (1 for Spam, 0 for Not Spam)\n",
    "data_label['label_numeric'] = (data_label['label'] == 'Spam').astype(int)\n",
    "\n",
    "# Split data into training and testing sets\n",
    "X_train, X_test, y_train, y_test = train_test_split(vectorized_data, data_label['label_numeric'], test_size=0.2, random_state=42)"
   ]
  },
  {
   "cell_type": "markdown",
   "metadata": {},
   "source": [
    "# 5. Train a Model - Logistic Regression"
   ]
  },
  {
   "cell_type": "code",
   "execution_count": 7,
   "metadata": {},
   "outputs": [],
   "source": [
    "\n",
    "from sklearn.model_selection import cross_validate\n",
    "from sklearn.linear_model import LogisticRegression\n",
    "\n",
    "# Split data into training and testing sets\n",
    "X_train, X_test, y_train, y_test = train_test_split(vectorized_data, data_label['label_numeric'], test_size=0.2, random_state=42)\n",
    "\n",
    "# Train a Logistic Regression model\n",
    "model = LogisticRegression(max_iter=1000)  # Increased max_iter for convergence\n",
    "\n",
    "model.fit(X_train, y_train)\n",
    "\n",
    "# Predict on the testing set\n",
    "y_pred = model.predict(X_test)"
   ]
  },
  {
   "cell_type": "code",
   "execution_count": null,
   "metadata": {},
   "outputs": [],
   "source": [
    "pkl_filename = 'model/prog8245nlp.pkl'\n",
    "with open(pkl_filename, 'wb') as file:\n",
    "    pickle.dump(model, file)"
   ]
  },
  {
   "cell_type": "markdown",
   "metadata": {},
   "source": [
    "# 6. Evaluate the model: Logistic Regression"
   ]
  },
  {
   "cell_type": "markdown",
   "metadata": {},
   "source": [
    "## 6.1. Accuracy, recall, f1-score"
   ]
  },
  {
   "cell_type": "code",
   "execution_count": 8,
   "metadata": {},
   "outputs": [
    {
     "name": "stdout",
     "output_type": "stream",
     "text": [
      "Accuracy: 0.7584097859327217\n",
      "\n",
      "              precision    recall  f1-score   support\n",
      "\n",
      "           0       0.67      0.05      0.09        81\n",
      "           1       0.76      0.99      0.86       246\n",
      "\n",
      "    accuracy                           0.76       327\n",
      "   macro avg       0.71      0.52      0.48       327\n",
      "weighted avg       0.74      0.76      0.67       327\n",
      "\n"
     ]
    }
   ],
   "source": [
    "from sklearn.metrics import classification_report\n",
    "import pandas as pd\n",
    "\n",
    "# Calculate and display accuracy and other metrics\n",
    "accuracy = accuracy_score(y_test, y_pred)\n",
    "report = classification_report(y_test, y_pred)\n",
    "\n",
    "print(f\"Accuracy: {accuracy}\\n\")\n",
    "print(report)\n",
    "\n"
   ]
  },
  {
   "cell_type": "markdown",
   "metadata": {},
   "source": [
    "Precision: Precision measures the proportion of correctly identified positive cases (spam emails) out of all cases classified as positive. For spam class (Spam), it's 0.76, meaning 76% of the emails classified as spam are actually spam.\n",
    "\n",
    "Recall: Recall measures the proportion of correctly identified positive cases (spam emails) out of all actual positive cases. For spam class (Spam), it's 0.99, indicating that the model captures 99% of the actual spam emails.\n",
    "\n",
    "F1-score: The F1-score is the harmonic mean of precision and recall, providing a balance between the two metrics. For spam class (Spam), it's 0.86, reflecting a good balance between precision and recall.\n",
    "\n",
    "Support: Support refers to the number of actual occurrences of each class in the test dataset. For spam class (Spam), there are 246 instances in the test dataset.\n",
    "\n",
    "The support value for \"0\" (non-spam emails) in the classification report indicates that out of the 327 emails in the test set, 81 were classified as \"0\" (non-spam emails). "
   ]
  },
  {
   "cell_type": "markdown",
   "metadata": {},
   "source": [
    "## 6.2. Confusion matrix"
   ]
  },
  {
   "cell_type": "markdown",
   "metadata": {},
   "source": [
    "![Matrix confision](https://miro.medium.com/v2/resize:fit:640/format:webp/1*Z54JgbS4DUwWSknhDCvNTQ.png)\n",
    "\n"
   ]
  },
  {
   "cell_type": "code",
   "execution_count": 9,
   "metadata": {},
   "outputs": [
    {
     "data": {
      "image/png": "[encoded data removed]",
      "text/plain": [
       "<Figure size 1000x800 with 2 Axes>"
      ]
     },
     "metadata": {},
     "output_type": "display_data"
    }
   ],
   "source": [
    "import matplotlib.pyplot as plt\n",
    "import seaborn as sns\n",
    "from sklearn.metrics import confusion_matrix\n",
    "\n",
    "# Assuming y_test and y_pred are defined and contain the true and predicted labels respectively\n",
    "conf_matrix = confusion_matrix(y_test, y_pred)\n",
    "\n",
    "# Create a pandas DataFrame from the confusion matrix for easier plotting\n",
    "conf_matrix_df_lr = pd.DataFrame(conf_matrix,columns=['Positive', 'Negative'],\n",
    "                              index=['Positive', 'Negative'])\n",
    "\n",
    "\n",
    "import seaborn as sns\n",
    "import matplotlib.pyplot as plt\n",
    "\n",
    "\n",
    "\n",
    "# Plot the confusion matrix as a heatmap\n",
    "plt.figure(figsize=(10, 8))\n",
    "sns.heatmap(conf_matrix_df_lr, annot=True, fmt='d', cmap='Blues')\n",
    "plt.title('Confusion Matrix - Logistic Regression')\n",
    "plt.ylabel('Predicted Values')\n",
    "plt.xlabel('Actual Values')\n",
    "plt.show()\n",
    "\n"
   ]
  },
  {
   "cell_type": "markdown",
   "metadata": {},
   "source": [
    "Top Left (Purple): True Positive (TP) - The number of positive instances correctly predicted by the model as positive. In this case, there are 4.\n",
    "\n",
    "Top Right (Blue): False Negative (FN) - The number of positive instances incorrectly predicted by the model as negative. There are 77, indicating these were spam emails that the model failed to identify correctly.\n",
    "\n",
    "Bottom Left (Purple): False Positive (FP) - The number of negative instances incorrectly predicted by the model as positive. The model has identified 2 such cases.\n",
    "\n",
    "Bottom Right (Yellow): True Negative (TN) - The number of negative instances correctly predicted by the model as negative. There are 244, indicating these were non-spam emails that the model correctly identified."
   ]
  },
  {
   "cell_type": "markdown",
   "metadata": {},
   "source": [
    "# 7. Train a Model - RandomForestClassifier"
   ]
  },
  {
   "cell_type": "code",
   "execution_count": 10,
   "metadata": {},
   "outputs": [],
   "source": [
    "from sklearn.model_selection import train_test_split\n",
    "from sklearn.ensemble import RandomForestClassifier\n",
    "\n",
    "# Split data into training and testing sets\n",
    "X_train, X_test, y_train, y_test = train_test_split(vectorized_data, data_label['label_numeric'], test_size=0.2, random_state=42)\n",
    "\n",
    "# Train a Random Forest model\n",
    "model = RandomForestClassifier(n_estimators=100, random_state=42)  # You can adjust the number of trees (n_estimators)\n",
    "\n",
    "model.fit(X_train, y_train)\n",
    "\n",
    "# Predict on the testing set\n",
    "y_pred= model.predict(X_test)\n"
   ]
  },
  {
   "cell_type": "markdown",
   "metadata": {},
   "source": [
    "# 8. Evaluate the model: RandomForestClassifier"
   ]
  },
  {
   "cell_type": "markdown",
   "metadata": {},
   "source": [
    "## 8.1. Accuracy, recall, f1-score"
   ]
  },
  {
   "cell_type": "code",
   "execution_count": 11,
   "metadata": {},
   "outputs": [
    {
     "name": "stdout",
     "output_type": "stream",
     "text": [
      "Accuracy: 0.764525993883792\n",
      "\n",
      "              precision    recall  f1-score   support\n",
      "\n",
      "           0       0.55      0.28      0.37        81\n",
      "           1       0.80      0.92      0.85       246\n",
      "\n",
      "    accuracy                           0.76       327\n",
      "   macro avg       0.67      0.60      0.61       327\n",
      "weighted avg       0.73      0.76      0.74       327\n",
      "\n"
     ]
    }
   ],
   "source": [
    "from sklearn.metrics import classification_report\n",
    "import pandas as pd\n",
    "\n",
    "# Calculate and display accuracy and other metrics\n",
    "accuracy = accuracy_score(y_test, y_pred)\n",
    "report_rf = classification_report(y_test, y_pred)\n",
    "\n",
    "print(f\"Accuracy: {accuracy}\\n\")\n",
    "print(report_rf)\n",
    "\n"
   ]
  },
  {
   "cell_type": "markdown",
   "metadata": {},
   "source": [
    "## 8.2. Confusion matrix"
   ]
  },
  {
   "cell_type": "code",
   "execution_count": 12,
   "metadata": {},
   "outputs": [
    {
     "data": {
      "image/png": "[encoded data removed]",
      "text/plain": [
       "<Figure size 1000x800 with 2 Axes>"
      ]
     },
     "metadata": {},
     "output_type": "display_data"
    }
   ],
   "source": [
    "import matplotlib.pyplot as plt\n",
    "import seaborn as sns\n",
    "from sklearn.metrics import confusion_matrix\n",
    "\n",
    "# Assuming y_test and y_pred are defined and contain the true and predicted labels respectively\n",
    "conf_matrix = confusion_matrix(y_test, y_pred)\n",
    "\n",
    "# Create a pandas DataFrame from the confusion matrix for easier plotting\n",
    "conf_matrix_df_rf = pd.DataFrame(conf_matrix,columns=['Positive', 'Negative'],\n",
    "                              index=['Positive', 'Negative'])\n",
    "\n",
    "\n",
    "import seaborn as sns\n",
    "import matplotlib.pyplot as plt\n",
    "\n",
    "\n",
    "\n",
    "# Plot the confusion matrix as a heatmap\n",
    "plt.figure(figsize=(10, 8))\n",
    "sns.heatmap(conf_matrix_df_rf, annot=True, fmt='d', cmap='Blues')\n",
    "plt.title('Confusion Matrix - Random Forest')\n",
    "plt.ylabel('Predicted Values')\n",
    "plt.xlabel('Actual Values')\n",
    "plt.show()\n"
   ]
  },
  {
   "cell_type": "markdown",
   "metadata": {},
   "source": [
    "- Top-left square (True Positives, TP): The number of positive instances correctly predicted by the model (23).\n",
    "- Top-right square (False Negatives, FN): The number of positive instances incorrectly predicted as negative by the model (58).\n",
    "- Bottom-left square (False Positives, FP): The number of negative instances incorrectly predicted as positive by the model (19).\n",
    "- Bottom-right square (True Negatives, TN): The number of negative instances correctly predicted by the model (227)."
   ]
  },
  {
   "cell_type": "markdown",
   "metadata": {},
   "source": [
    "# 10.Which confusion matrix is better?"
   ]
  },
  {
   "cell_type": "code",
   "execution_count": 13,
   "metadata": {},
   "outputs": [
    {
     "data": {
      "image/png": "[encoded data removed]",
      "text/plain": [
       "<Figure size 1200x600 with 2 Axes>"
      ]
     },
     "metadata": {},
     "output_type": "display_data"
    }
   ],
   "source": [
    "import numpy as np\n",
    "import pandas as pd\n",
    "import matplotlib.pyplot as plt\n",
    "import seaborn as sns\n",
    "\n",
    "# Assuming you already have the confusion matrices conf_matrix_lr and conf_matrix_rf\n",
    "\n",
    "# Convert confusion matrices to pandas DataFrames\n",
    "conf_matrix_df_lr = pd.DataFrame(conf_matrix_df_lr, columns=['Positive', 'Negative'], index=['Positive', 'Negative'])\n",
    "conf_matrix_df_rf = pd.DataFrame(conf_matrix_df_rf, columns=['Positive', 'Negative'], index=['Positive', 'Negative'])\n",
    "\n",
    "# Create a figure with two subplots\n",
    "fig, axs = plt.subplots(1, 2, figsize=(12, 6))\n",
    "\n",
    "# Plot confusion matrix for logistic regression\n",
    "sns.heatmap(conf_matrix_df_lr, annot=True, fmt='d', cmap='Blues', cbar=False, ax=axs[0])\n",
    "axs[0].set_title('Logistic Regression')\n",
    "\n",
    "# Plot confusion matrix for random forest\n",
    "sns.heatmap(conf_matrix_df_rf, annot=True, fmt='d', cmap='Blues', cbar=False, ax=axs[1])\n",
    "axs[1].set_title('Random Forest')\n",
    "\n",
    "plt.tight_layout()\n",
    "plt.show()\n"
   ]
  },
  {
   "cell_type": "markdown",
   "metadata": {},
   "source": [
    "For the Logistic Regression model:\n",
    "\n",
    "- True Positives (TP): 4\n",
    "- False Negatives (FN): 77\n",
    "- False Positives (FP): 2\n",
    "- True Negatives (TN): 244\n",
    "\n",
    "For the Random Forest model:\n",
    "\n",
    "- True Positives (TP): 23\n",
    "- False Negatives (FN): 58\n",
    "- False Positives (FP): 19\n",
    "- True Negatives (TN): 227"
   ]
  },
  {
   "cell_type": "code",
   "execution_count": 14,
   "metadata": {},
   "outputs": [
    {
     "name": "stdout",
     "output_type": "stream",
     "text": [
      "Logistic Regression:\n",
      "               precision    recall  f1-score   support\n",
      "\n",
      "           0       0.67      0.05      0.09        81\n",
      "           1       0.76      0.99      0.86       246\n",
      "\n",
      "    accuracy                           0.76       327\n",
      "   macro avg       0.71      0.52      0.48       327\n",
      "weighted avg       0.74      0.76      0.67       327\n",
      "\n",
      "Randon Forest:\n",
      "               precision    recall  f1-score   support\n",
      "\n",
      "           0       0.55      0.28      0.37        81\n",
      "           1       0.80      0.92      0.85       246\n",
      "\n",
      "    accuracy                           0.76       327\n",
      "   macro avg       0.67      0.60      0.61       327\n",
      "weighted avg       0.73      0.76      0.74       327\n",
      "\n"
     ]
    }
   ],
   "source": [
    "print(f\"Logistic Regression:\\n {report}\")\n",
    "print(f\"Randon Forest:\\n {report_rf}\")"
   ]
  },
  {
   "cell_type": "markdown",
   "metadata": {},
   "source": [
    "- Precision: Logistic Regression is more precise than Random Forest, meaning it has a lower rate of false positives.\n",
    "- Recall: Random Forest has a higher recall than Logistic Regression, meaning it is better at identifying positive instances.\n",
    "- Accuracy: Both models have similar accuracy, with Random Forest being slightly higher.\n",
    "- F1 Score: Random Forest has a much higher F1 Score than Logistic Regression, indicating a better balance between precision and recall.\n",
    "\n",
    "Considering these factors, the Random Forest model seems to perform better overall.<br>\n",
    "It has significantly better recall and F1 score, indicating that it is more effective at classifying positive instances without compromising too much on precision.<br> \n",
    "The slightly higher accuracy of the Random Forest model also supports this conclusion."
   ]
  }
 ],
 "metadata": {
  "kernelspec": {
   "display_name": "Python 3",
   "language": "python",
   "name": "python3"
  },
  "language_info": {
   "codemirror_mode": {
    "name": "ipython",
    "version": 3
   },
   "file_extension": ".py",
   "mimetype": "text/x-python",
   "name": "python",
   "nbconvert_exporter": "python",
   "pygments_lexer": "ipython3",
   "version": "3.11.7"
  }
 },
 "nbformat": 4,
 "nbformat_minor": 2
}
