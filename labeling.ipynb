{
 "cells": [
  {
   "cell_type": "code",
   "execution_count": 1,
   "metadata": {},
   "outputs": [
    {
     "name": "stderr",
     "output_type": "stream",
     "text": [
      "c:\\Users\\USER\\Documents\\CC\\Foundatuin ML\\projects\\CSCN8010\\venv\\pytorch_cpu\\Lib\\site-packages\\tqdm\\auto.py:21: TqdmWarning: IProgress not found. Please update jupyter and ipywidgets. See https://ipywidgets.readthedocs.io/en/stable/user_install.html\n",
      "  from .autonotebook import tqdm as notebook_tqdm\n"
     ]
    }
   ],
   "source": [
    "# Use a pipeline as a high-level helper\n",
    "from transformers import pipeline\n",
    "\n",
    "pipe = pipeline(\"text-classification\", model=\"h-e-l-l-o/email-spam-classification-merged\")"
   ]
  },
  {
   "cell_type": "code",
   "execution_count": 2,
   "metadata": {},
   "outputs": [],
   "source": [
    "import pandas as pd\n",
    "\n",
    "df = pd.read_csv(\"./csv/mail.csv\")"
   ]
  },
  {
   "cell_type": "code",
   "execution_count": 3,
   "metadata": {},
   "outputs": [],
   "source": [
    "df.drop(columns=['Unnamed: 0'], inplace=True)"
   ]
  },
  {
   "cell_type": "code",
   "execution_count": 4,
   "metadata": {},
   "outputs": [
    {
     "data": {
      "text/plain": [
       "1632"
      ]
     },
     "execution_count": 4,
     "metadata": {},
     "output_type": "execute_result"
    }
   ],
   "source": [
    "len(df)"
   ]
  },
  {
   "cell_type": "code",
   "execution_count": 5,
   "metadata": {},
   "outputs": [
    {
     "name": "stdout",
     "output_type": "stream",
     "text": [
      "Requirement already satisfied: nltk in c:\\users\\user\\documents\\cc\\foundatuin ml\\projects\\cscn8010\\venv\\pytorch_cpu\\lib\\site-packages (3.8.1)\n",
      "Requirement already satisfied: click in c:\\users\\user\\documents\\cc\\foundatuin ml\\projects\\cscn8010\\venv\\pytorch_cpu\\lib\\site-packages (from nltk) (8.1.7)\n",
      "Requirement already satisfied: joblib in c:\\users\\user\\documents\\cc\\foundatuin ml\\projects\\cscn8010\\venv\\pytorch_cpu\\lib\\site-packages (from nltk) (1.4.0)\n",
      "Requirement already satisfied: regex>=2021.8.3 in c:\\users\\user\\documents\\cc\\foundatuin ml\\projects\\cscn8010\\venv\\pytorch_cpu\\lib\\site-packages (from nltk) (2023.12.25)\n",
      "Requirement already satisfied: tqdm in c:\\users\\user\\documents\\cc\\foundatuin ml\\projects\\cscn8010\\venv\\pytorch_cpu\\lib\\site-packages (from nltk) (4.66.2)\n",
      "Requirement already satisfied: colorama in c:\\users\\user\\documents\\cc\\foundatuin ml\\projects\\cscn8010\\venv\\pytorch_cpu\\lib\\site-packages (from click->nltk) (0.4.6)\n"
     ]
    }
   ],
   "source": [
    "!pip install nltk"
   ]
  },
  {
   "cell_type": "code",
   "execution_count": 6,
   "metadata": {},
   "outputs": [],
   "source": [
    "import string\n",
    "from collections import Counter\n",
    "from nltk.tokenize import word_tokenize\n",
    "from nltk.corpus import stopwords\n",
    "from nltk.stem import WordNetLemmatizer\n",
    "\n",
    "from sklearn.feature_extraction.text import TfidfVectorizer"
   ]
  },
  {
   "cell_type": "code",
   "execution_count": 7,
   "metadata": {},
   "outputs": [],
   "source": [
    "## TODO: Clean the sentences\n",
    "\n",
    "def nlp_preprocess(sentence):\n",
    "        \n",
    "    # Tokenization\n",
    "    wt_t = word_tokenize(sentence)\n",
    "\n",
    "    # Stop-Words Removal\n",
    "    stopwords.words(\"english\")\n",
    "    st_t = [word for word in wt_t if word not in stopwords.words(\"english\")]\n",
    "\n",
    "    # Remove punctuation\n",
    "    punc_list = list(string.punctuation)\n",
    "    punc_list.append('`')\n",
    "    punc_list.append('--')\n",
    "    pr_t = [word for word in st_t if word not in punc_list]\n",
    "\n",
    "    # Lower all words\n",
    "    l_t = [word.lower() for word in pr_t]\n",
    "\n",
    "    # Lemmatization\n",
    "    # The reason I chose the Lemmatizer it's because when every time I use both function to transfer the word, Lemmatizer could always return a text that is easier to recognize.\n",
    "    lemmatizer = WordNetLemmatizer()\n",
    "    lemm_t = [lemmatizer.lemmatize(word) for word in l_t]\n",
    "    \n",
    "    filter_len_1 = [item for item in lemm_t if len(item) != 1]\n",
    "\n",
    "    # POS Tagging\n",
    "    # pos_t = nltk.pos_tag(word_tokenize(\" \".join(lemm_t)))\n",
    "\n",
    "    # This function should return list of tokens after applying NLP Tasks explained above\n",
    "    return filter_len_1"
   ]
  },
  {
   "cell_type": "code",
   "execution_count": 8,
   "metadata": {},
   "outputs": [],
   "source": [
    "import math\n",
    "\n",
    "results = {\"prob\": [], \"label\": [], \"new_content\": []}\n",
    "gap = 500\n",
    "\n",
    "for index, row in df.iterrows():\n",
    "    # print(len(row['Content']))\n",
    "    new_c = \" \".join(nlp_preprocess(row[\"Content\"]))\n",
    "    results[\"new_content\"].append(new_c)\n",
    "\n",
    "    le = len(new_c)\n",
    "\n",
    "    if len(new_c) < gap:\n",
    "        result = pipe(new_c)\n",
    "        results[\"prob\"].append(result[0][\"score\"])\n",
    "        results[\"label\"].append(result[0][\"label\"])\n",
    "    else:\n",
    "        times = math.ceil(le / gap)\n",
    "\n",
    "        spam = []\n",
    "        ham = []\n",
    "\n",
    "        for i in range(times):\n",
    "            b = gap * i\n",
    "            e = gap * i + 1\n",
    "            r = pipe(new_c[b:e])\n",
    "\n",
    "            if r[0][\"label\"] == \"Ham\":\n",
    "                ham.append(r[0][\"score\"])\n",
    "            else:\n",
    "                spam.append(r[0][\"score\"])\n",
    "\n",
    "        sum_spam = sum(spam)\n",
    "        sum_ham = sum(ham)\n",
    "\n",
    "        results[\"label\"].append(\"Spam\" if sum_spam > sum_ham else \"Ham\")\n",
    "        results[\"prob\"].append(abs(sum_ham - sum_spam) / times)"
   ]
  },
  {
   "cell_type": "code",
   "execution_count": 9,
   "metadata": {},
   "outputs": [],
   "source": [
    "df['label'] = results[\"label\"]\n",
    "df['score'] = results[\"prob\"]"
   ]
  },
  {
   "cell_type": "code",
   "execution_count": 10,
   "metadata": {},
   "outputs": [
    {
     "data": {
      "text/plain": [
       "label\n",
       "Spam    1210\n",
       "Ham      422\n",
       "Name: count, dtype: int64"
      ]
     },
     "execution_count": 10,
     "metadata": {},
     "output_type": "execute_result"
    }
   ],
   "source": [
    "df['label'].value_counts()"
   ]
  },
  {
   "cell_type": "code",
   "execution_count": 11,
   "metadata": {},
   "outputs": [],
   "source": [
    "df.to_csv('./csv/mail_labeling.csv')"
   ]
  }
 ],
 "metadata": {
  "kernelspec": {
   "display_name": "Python 3",
   "language": "python",
   "name": "python3"
  },
  "language_info": {
   "codemirror_mode": {
    "name": "ipython",
    "version": 3
   },
   "file_extension": ".py",
   "mimetype": "text/x-python",
   "name": "python",
   "nbconvert_exporter": "python",
   "pygments_lexer": "ipython3",
   "version": "3.11.7"
  }
 },
 "nbformat": 4,
 "nbformat_minor": 2
}
